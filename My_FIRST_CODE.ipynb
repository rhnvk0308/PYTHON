{
 "cells": [
  {
   "cell_type": "code",
   "execution_count": 1,
   "id": "4d9c4906-46e8-4292-bf75-d1d2837cf3ee",
   "metadata": {},
   "outputs": [],
   "source": [
    "# This is my first line of code\n"
   ]
  },
  {
   "cell_type": "code",
   "execution_count": 3,
   "id": "1c298fff-7bd4-442c-bb29-47f81489e448",
   "metadata": {},
   "outputs": [
    {
     "name": "stdout",
     "output_type": "stream",
     "text": [
      "My name is Rohan\n",
      "The date is 15/07/2025\n"
     ]
    }
   ],
   "source": [
    "print(\"My name is Rohan\")\n",
    "print(\"The date is 15/07/2025\")"
   ]
  },
  {
   "cell_type": "code",
   "execution_count": 4,
   "id": "5faf2e7c-1f5e-4333-922b-09fb82754aaf",
   "metadata": {},
   "outputs": [],
   "source": [
    "# Write a program to analyse real estate data\n"
   ]
  },
  {
   "cell_type": "code",
   "execution_count": 7,
   "id": "762e9b4d-ef6e-4d25-9547-5bb6e12c69b3",
   "metadata": {},
   "outputs": [
    {
     "name": "stdout",
     "output_type": "stream",
     "text": [
      "182900\n"
     ]
    }
   ],
   "source": [
    "#Following are the valriables present in collumn 'Property ID'\n",
    "\n",
    "a = 45000\n",
    "b = 23400\n",
    "c = 67000\n",
    "d = 34600\n",
    "e = 12900\n",
    "\n",
    "#Total sales for the month of December\n",
    "\n",
    "Total_Sales = (a + b + c + d + e)\n",
    "\n",
    "#Output\n",
    "\n",
    "print(Total_Sales)"
   ]
  },
  {
   "cell_type": "code",
   "execution_count": 9,
   "id": "aac6e17b-2557-4e12-8c0f-38e552ff95de",
   "metadata": {},
   "outputs": [
    {
     "name": "stdout",
     "output_type": "stream",
     "text": [
      "36580.0\n"
     ]
    }
   ],
   "source": [
    "#Calcualte average sales price for the month.\n",
    "\n",
    "Avg_Sales_Price = (Total_Sales) / 5\n",
    "\n",
    "#Output\n",
    "\n",
    "print(Avg_Sales_Price)"
   ]
  },
  {
   "cell_type": "code",
   "execution_count": 11,
   "id": "0ca52a9e-a140-417e-ae00-4c44d4ab46f2",
   "metadata": {},
   "outputs": [
    {
     "name": "stdout",
     "output_type": "stream",
     "text": [
      "60500\n"
     ]
    }
   ],
   "source": [
    "#Print price for Property C\n",
    "\n",
    "Price_PPT_C = (67000 - 6500)\n",
    "\n",
    "print(Price_PPT_C)"
   ]
  },
  {
   "cell_type": "code",
   "execution_count": null,
   "id": "e0faef77-933e-4d00-9468-48587fbb3d87",
   "metadata": {},
   "outputs": [],
   "source": []
  }
 ],
 "metadata": {
  "kernelspec": {
   "display_name": "Python 3 (ipykernel)",
   "language": "python",
   "name": "python3"
  },
  "language_info": {
   "codemirror_mode": {
    "name": "ipython",
    "version": 3
   },
   "file_extension": ".py",
   "mimetype": "text/x-python",
   "name": "python",
   "nbconvert_exporter": "python",
   "pygments_lexer": "ipython3",
   "version": "3.11.7"
  }
 },
 "nbformat": 4,
 "nbformat_minor": 5
}
